{
 "cells": [
  {
   "cell_type": "markdown",
   "metadata": {},
   "source": [
    "## [作業目標]\n",
    "了解機器學習適合應用的領域與範疇。"
   ]
  },
  {
   "cell_type": "markdown",
   "metadata": {},
   "source": [
    "## [作業重點]\n",
    "透過瞭解機器學習的運作方式，找出非常適用機器學習應用的領域及其原因"
   ]
  },
  {
   "cell_type": "markdown",
   "metadata": {},
   "source": [
    "## 作業\n",
    "請找出一個你認為機器學習可以發光發熱的領域並闡述原因? "
   ]
  },
  {
   "cell_type": "code",
   "execution_count": 2,
   "metadata": {},
   "outputs": [
    {
     "data": {
      "text/plain": [
       "'\\n試衣APP\\n\\n1.網購趨勢\\n2.即使有對照尺寸，服裝的訂購,在收到貨品後，仍常有部分身體尺寸不合的問題，接著就是麻煩的退換貨程序。\\n3.人體的線條、脖圍、軀幹、四肢有各尺寸，各款衣物也可透過照片轉換有對應尺寸。\\n'"
      ]
     },
     "execution_count": 2,
     "metadata": {},
     "output_type": "execute_result"
    }
   ],
   "source": [
    "   '''\n",
    "   生活領域:試衣APP\n",
    "   \n",
    "   1.網購趨勢\n",
    "   2.即使有對照尺寸，服裝的訂購,在收到貨品後，仍常有部分身體尺寸不合的問題，接著就是麻煩的退換貨程序。\n",
    "   3.人體的線條、脖圍、軀幹、四肢有各尺寸，各款衣物也可透過照片轉換有對應尺寸。\n",
    "   4.搭配網購有市場有需求，而情境符合複雜、大規模, 但又要依個人曲線客製、隨著時間變化的條件。\n",
    "   5.若開發成功，應是個熱門的應用。\n",
    "   '''"
   ]
  }
 ],
 "metadata": {
  "kernelspec": {
   "display_name": "Python 3",
   "language": "python",
   "name": "python3"
  },
  "language_info": {
   "codemirror_mode": {
    "name": "ipython",
    "version": 3
   },
   "file_extension": ".py",
   "mimetype": "text/x-python",
   "name": "python",
   "nbconvert_exporter": "python",
   "pygments_lexer": "ipython3",
   "version": "3.7.4"
  }
 },
 "nbformat": 4,
 "nbformat_minor": 2
}
