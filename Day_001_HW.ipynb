{
 "cells": [
  {
   "cell_type": "markdown",
   "metadata": {},
   "source": [
    "## 練習時間\n",
    "#### 請寫一個函式用來計算 Mean Square Error\n",
    "$ MSE = \\frac{1}{n}\\sum_{i=1}^{n}{(Y_i - \\hat{Y}_i)^2} $\n",
    "\n",
    "### Hint: [如何取平方](https://googoodesign.gitbooks.io/-ezpython/unit-1.html)"
   ]
  },
  {
   "cell_type": "markdown",
   "metadata": {},
   "source": [
    "# [作業目標]\n",
    "- 仿造範例的MAE函數, 自己寫一個MSE函數(參考上面公式)"
   ]
  },
  {
   "cell_type": "markdown",
   "metadata": {},
   "source": [
    "# [作業重點]\n",
    "- 注意程式的縮排\n",
    "- 是否能將數學公式, 轉換為 Python 的函式組合? (In[2], Out[2])"
   ]
  },
  {
   "cell_type": "code",
   "execution_count": 18,
   "metadata": {},
   "outputs": [],
   "source": [
    "# 載入基礎套件與代稱\n",
    "import numpy as np\n",
    "import matplotlib.pyplot as plt"
   ]
  },
  {
   "cell_type": "code",
   "execution_count": 21,
   "metadata": {},
   "outputs": [],
   "source": [
    "def mean_absolute_error(y, yp):\n",
    "    \"\"\"\n",
    "    計算 MAE\n",
    "    Args:\n",
    "        - y: 實際值\n",
    "        - yp: 預測值\n",
    "    Return:\n",
    "        - mae: MAE\n",
    "    \"\"\"\n",
    "    mae = MAE = sum(abs(y - yp)) / len(y)\n",
    "    return mae\n",
    "\n",
    "# 定義 mean_squared_error 這個函數, 計算並傳回 MSE\n",
    "def mean_squared_error(y, yp):\n",
    "    mse = MSE = sum((y-yp)** 2 )/ len(y)\n",
    "    return mse"
   ]
  },
  {
   "cell_type": "code",
   "execution_count": 12,
   "metadata": {},
   "outputs": [
    {
     "data": {
      "image/png": "[encoded data removed]",
      "text/plain": [
       "<Figure size 432x288 with 1 Axes>"
      ]
     },
     "metadata": {
      "needs_background": "light"
     },
     "output_type": "display_data"
    }
   ],
   "source": [
    "# 與範例相同, 不另外解說\n",
    "w = 3\n",
    "b = 0.5\n",
    "x_lin = np.linspace(0, 100, 101)\n",
    "y = (x_lin + np.random.randn(101) * 5) * w + b\n",
    "\n",
    "plt.plot(x_lin, y, 'b.', label = 'data points')\n",
    "plt.title(\"Assume we have data points\")\n",
    "plt.legend(loc = 2)\n",
    "plt.show()"
   ]
  },
  {
   "cell_type": "code",
   "execution_count": 13,
   "metadata": {},
   "outputs": [
    {
     "data": {
      "image/png": "[encoded data removed]",
      "text/plain": [
       "<Figure size 432x288 with 1 Axes>"
      ]
     },
     "metadata": {
      "needs_background": "light"
     },
     "output_type": "display_data"
    }
   ],
   "source": [
    "# 與範例相同, 不另外解說\n",
    "y_hat = x_lin * w + b\n",
    "plt.plot(x_lin, y, 'b.', label = 'data')\n",
    "plt.plot(x_lin, y_hat, 'r-', label = 'prediction')\n",
    "plt.title(\"Assume we have data points (And the prediction)\")\n",
    "plt.legend(loc = 2)\n",
    "plt.show()"
   ]
  },
  {
   "cell_type": "code",
   "execution_count": 22,
   "metadata": {},
   "outputs": [
    {
     "name": "stdout",
     "output_type": "stream",
     "text": [
      "The Mean squared error is 239.313\n",
      "The Mean absolute error is 12.119\n"
     ]
    }
   ],
   "source": [
    "# 執行 Function, 確認有沒有正常執行\n",
    "MSE = mean_squared_error(y, y_hat)\n",
    "MAE = mean_absolute_error(y, y_hat)\n",
    "print(\"The Mean squared error is %.3f\" % (MSE))\n",
    "print(\"The Mean absolute error is %.3f\" % (MAE))"
   ]
  },
  {
   "cell_type": "markdown",
   "metadata": {},
   "source": [
    "# [作業2]\n",
    "\n",
    "請上 Kaggle, 在 Competitions 或 Dataset 中找一組競賽或資料並寫下：\n",
    "\n",
    "1. 你選的這組資料為何重要\n",
    "\n",
    "2. 資料從何而來 (tips: 譬如提供者是誰、以什麼方式蒐集)\n",
    "\n",
    "3. 蒐集而來的資料型態為何\n",
    "\n",
    "4. 這組資料想解決的問題如何評估\n",
    "\n",
    "# [作業3]\n",
    "\n",
    "想像你經營一個自由載客車隊，你希望能透過數據分析以提升業績，請你思考並描述你如何規劃整體的分析/解決方案：\n",
    "\n",
    "1. 核心問題為何 (tips：如何定義 「提升業績 & 你的假設」)\n",
    "\n",
    "2. 資料從何而來 (tips：哪些資料可能會對你想問的問題產生影響 & 資料如何蒐集)\n",
    "\n",
    "3. 蒐集而來的資料型態為何\n",
    "\n",
    "4. 你要回答的問題，其如何評估 (tips：你的假設如何驗證)"
   ]
  },
  {
   "cell_type": "code",
   "execution_count": 24,
   "metadata": {},
   "outputs": [
    {
     "data": {
      "text/plain": [
       "'[作業2]\\n0.Competition-Dataset: 2021 Olympics in Tokyo\\n  This contains the details of over 11,000 athletes, with 47 disciplines, along with 743 Teams taking part in the 2021(2020) Tokyo Olympics.\\n1.你選的這組資料為何重要:世界觀注的比賽\\n2.資料從何而來 (tips: 譬如提供者是誰、以什麼方式蒐集):\\n  Source: Tokyo Olympics 2020 Website-官網資料，由印度Arjun Prasad Sarkhel整理。\\n3.蒐集而來的資料型態為何\\n  結構化資料-csv檔。\\n4.這組資料想解決的問題如何評估\\n  資料可用以視覺化呈現各國運動員、金銀銅版國家分佈等。\\n  有參與者回應可檢視- 奧運舉辦國是否會表現較優?\\n  這需要過往的資料，檢視日本在歷屆與本屆奧運取得獎版數的是否有差異。\\n  也可檢視\\n'"
      ]
     },
     "execution_count": 24,
     "metadata": {},
     "output_type": "execute_result"
    }
   ],
   "source": [
    "\"\"\"[作業2]\n",
    "0.Competition-Dataset: 2021 Olympics in Tokyo\n",
    "  This contains the details of over 11,000 athletes, with 47 disciplines, along with 743 Teams taking part in the 2021(2020) Tokyo Olympics.\n",
    "1.你選的這組資料為何重要:世界觀注的比賽\n",
    "2.資料從何而來 (tips: 譬如提供者是誰、以什麼方式蒐集):\n",
    "  Source: Tokyo Olympics 2020 Website-官網資料，由印度Arjun Prasad Sarkhel整理。\n",
    "3.蒐集而來的資料型態為何\n",
    "  結構化資料-csv檔。\n",
    "4.這組資料想解決的問題如何評估\n",
    "  資料可用以視覺化呈現各國運動員、金銀銅版國家分佈等。\n",
    "  有參與者回應可檢視- 奧運舉辦國是否會表現較優?\n",
    "  這需要過往的資料，檢視\n",
    "  A.日本在歷屆與本屆奧運取得獎牌數的是否有差異。\n",
    "  B.其他舉辦國歷屆與舉辦當屆,取得獎牌數的是否有差異。\n",
    "\"\"\""
   ]
  },
  {
   "cell_type": "code",
   "execution_count": 25,
   "metadata": {},
   "outputs": [
    {
     "data": {
      "text/plain": [
       "'[作業3]\\n1.核心問題為何:如何提升全車隊每月載客利潤(收入-成本)-利用歷史記錄,分析出乘車時間、地段熱點。\\n2.資料從何而來:假設乘車皆須以APP叫車，有APP輔助記錄載客資訊，含時間、行車起訖、車資等。\\n3.若由APP記錄,則資料為結構化資料,可由資料庫中匯出。\\n4.利用視覺化初步看到較熱門的時段、地段。利用假設驗證此時段、地段是否利潤顯著較平均值高。\\n  用 p 值和顯著水準確認。\\n'"
      ]
     },
     "execution_count": 25,
     "metadata": {},
     "output_type": "execute_result"
    }
   ],
   "source": [
    "\"\"\"[作業3]\n",
    "1.核心問題為何:如何提升全車隊每月載客利潤(收入-成本)-利用歷史記錄,分析出乘車時間、地段熱點。\n",
    "2.資料從何而來:假設乘車皆須以APP叫車，有APP輔助記錄載客資訊，含時間、行車起訖、車資等。\n",
    "3.若由APP記錄,則資料為結構化資料,可由資料庫中匯出。\n",
    "4.利用視覺化初步看到較熱門的時段、地段。利用假設驗證此時段、地段是否利潤顯著較平均值高。\n",
    "  用 p 值和顯著水準確認。\n",
    "  執行上，可將此時段、地段供車隊參考，提高熱點的載客，並由月利潤的資料，驗證是否有顯著提升。\n",
    "\"\"\""
   ]
  },
  {
   "cell_type": "code",
   "execution_count": null,
   "metadata": {},
   "outputs": [],
   "source": []
  }
 ],
 "metadata": {
  "anaconda-cloud": {},
  "kernelspec": {
   "display_name": "Python 3",
   "language": "python",
   "name": "python3"
  },
  "language_info": {
   "codemirror_mode": {
    "name": "ipython",
    "version": 3
   },
   "file_extension": ".py",
   "mimetype": "text/x-python",
   "name": "python",
   "nbconvert_exporter": "python",
   "pygments_lexer": "ipython3",
   "version": "3.7.4"
  }
 },
 "nbformat": 4,
 "nbformat_minor": 1
}
